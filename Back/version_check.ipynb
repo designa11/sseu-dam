{
 "cells": [
  {
   "cell_type": "code",
   "execution_count": 1,
   "metadata": {},
   "outputs": [
    {
     "name": "stdout",
     "output_type": "stream",
     "text": [
      "Name: Jinja2\n",
      "Version: 3.1.2\n",
      "Summary: A very fast and expressive template engine.\n",
      "Home-page: https://palletsprojects.com/p/jinja/\n",
      "Author: Armin Ronacher\n",
      "Author-email: armin.ronacher@active-4.com\n",
      "License: BSD-3-Clause\n",
      "Location: c:\\SDSD_project\\.venv\\Lib\\site-packages\n",
      "Requires: MarkupSafe\n",
      "Required-by: \n"
     ]
    }
   ],
   "source": [
    "!pip show jinja2"
   ]
  }
 ],
 "metadata": {
  "kernelspec": {
   "display_name": ".venv",
   "language": "python",
   "name": "python3"
  },
  "language_info": {
   "codemirror_mode": {
    "name": "ipython",
    "version": 3
   },
   "file_extension": ".py",
   "mimetype": "text/x-python",
   "name": "python",
   "nbconvert_exporter": "python",
   "pygments_lexer": "ipython3",
   "version": "3.12.6"
  }
 },
 "nbformat": 4,
 "nbformat_minor": 2
}
